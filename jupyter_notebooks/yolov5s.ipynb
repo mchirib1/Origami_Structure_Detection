{
  "nbformat": 4,
  "nbformat_minor": 0,
  "metadata": {
    "colab": {
      "name": "AFM_YOLOv5s_notebook_final.ipynb",
      "provenance": [],
      "collapsed_sections": [],
      "toc_visible": true
    },
    "kernelspec": {
      "display_name": "Python 3",
      "name": "python3"
    },
    "accelerator": "GPU"
  },
  "cells": [
    {
      "cell_type": "markdown",
      "metadata": {
        "id": "FDqsWUK6k69e"
      },
      "source": [
        "Here we outline the process of using the YOLOv5 code in google collab. Very simple!!  "
      ]
    },
    {
      "cell_type": "markdown",
      "metadata": {
        "id": "loPVjwm7lh2K"
      },
      "source": [
        "# **Introduction and Setup**\n",
        "### Here we outline the process for using the YOLOv5 Network"
      ]
    },
    {
      "cell_type": "markdown",
      "metadata": {
        "id": "ysKh8OO2lHHp"
      },
      "source": [
        "First mount the Gdrive to the Google Collab session in order to save results. Next the necessary code is imported from the Ultralytics YOLOv5 repository.\n",
        "\n",
        "The repository can be found here: https://github.com/ultralytics/yolov5"
      ]
    },
    {
      "cell_type": "code",
      "metadata": {
        "id": "YH4CTzDRh00g"
      },
      "source": [
        "# Mount google drive for saving the results\n",
        "\n",
        "from google.colab import drive\n",
        "drive.mount('/content/gdrive')"
      ],
      "execution_count": null,
      "outputs": []
    },
    {
      "cell_type": "code",
      "metadata": {
        "id": "wbvMlHd_QwMG"
      },
      "source": [
        "# Clone in YOLOv5 repo from ultralytics\n",
        "!git clone https://github.com/ultralytics/yolov5.git\n",
        "%cd /content\n",
        "\n",
        "!pip install -r yolov5/requirements.txt  # install dependencies\n",
        "%cd yolov5\n",
        "\n",
        "\n",
        "from datetime import date\n",
        "today = date.today().strftime('%Y%m%d')\n",
        "import torch\n",
        "print('Setup complete on %s. Using torch %s %s' % (today, torch.__version__, torch.cuda.get_device_properties(0) if torch.cuda.is_available() else 'CPU'))"
      ],
      "execution_count": null,
      "outputs": []
    },
    {
      "cell_type": "markdown",
      "metadata": {
        "id": "huLkQXnopKFT"
      },
      "source": [
        "# **Upload Custom Data**\n",
        "\n",
        "Next we create directories to upload the training validation and test sets also their labels."
      ]
    },
    {
      "cell_type": "code",
      "metadata": {
        "id": "xgIpSN-lchiw"
      },
      "source": [
        "# make train, validation, and testing directories to upload images and labels\n",
        "\n",
        "%cd /content\n",
        "%mkdir /content/train\n",
        "%mkdir /content/train/images  \n",
        "%mkdir /content/train/labels\n",
        "\n",
        "%mkdir /content/valid\n",
        "%mkdir /content/valid/images\n",
        "%mkdir /content/valid/labels\n",
        "\n",
        "%mkdir /content/test\n",
        "%mkdir /content/test/images\n",
        "\n",
        "print('Directories created.')"
      ],
      "execution_count": null,
      "outputs": []
    },
    {
      "cell_type": "markdown",
      "metadata": {
        "id": "c8yB07h1pzia"
      },
      "source": [
        "# **.yaml File Configuration**"
      ]
    },
    {
      "cell_type": "markdown",
      "metadata": {
        "id": "k32Y-3w_l3mW"
      },
      "source": [
        "The yaml file is a simple configuration file. It allows the YOLOv5 code to know the path to your training and validation data.  The number of detection classes and what the class names are. \n",
        "\n",
        "In our case all of the detections are on single classes i.e. triangle or rectangle. \n",
        "\n",
        "YAML files are very easy to write in a simple text editor, or using python. Below we provide an example using python:"
      ]
    },
    {
      "cell_type": "code",
      "metadata": {
        "id": "aX1lPR90mbBI"
      },
      "source": [
        "# Writing an example YAML file for Triangles.\n",
        "%cd /content\n",
        "with open('data.yaml', 'w') as outfile:\n",
        "  \n",
        "  outfile.write('train: ../train/images\\n') # path from /yolov5/train.py to directory with uploaded training data \n",
        "  outfile.write('val: ../valid/images\\n') # path from /yolov5/train.py to directory with validation data\n",
        "  \n",
        "  outfile.write('\\n')\n",
        "\n",
        "  outfile.write('nc: 1\\n')\n",
        "  outfile.write(\"names: ['Rec']\\n\") ### edit accordingly to the structure or object\n",
        "\n",
        "print('Yaml file written.')"
      ],
      "execution_count": null,
      "outputs": []
    },
    {
      "cell_type": "code",
      "metadata": {
        "id": "ZZ3DmmGQztJj"
      },
      "source": [
        "# check yaml datafile \n",
        "# if uploading one either rename or adjust namespace accordingly\n",
        "%cd /content\n",
        "%cat data.yaml"
      ],
      "execution_count": null,
      "outputs": []
    },
    {
      "cell_type": "markdown",
      "metadata": {
        "id": "ocZRlyApqQks"
      },
      "source": [
        "# **Review Input Data**\n",
        "\n",
        "Here we review all the data which has been uploaded to ensure we have the correct information for training.  This will also help to estimate batch sizing, training time, etc..."
      ]
    },
    {
      "cell_type": "code",
      "metadata": {
        "id": "dOPn9wjOAwwK"
      },
      "source": [
        "%cd /content\n",
        "# view the breakdown of the images that you have for training and testing\n",
        "# define number of classes based on YAML\n",
        "import yaml\n",
        "import os\n",
        "\n",
        "os.chdir('/content')\n",
        "with open(\"data.yaml\", 'r') as stream:\n",
        "    num_classes = str(yaml.safe_load(stream)['nc'])\n",
        "print(\"There is n = %s classes in this data set\" %num_classes)\n",
        "print('---------------------------------------------------------------')\n",
        "\n",
        "# prints the number of trining images\n",
        "train_imgs = sorted(os.listdir('/content/train/images'))\n",
        "print('There are %i images ready for training' % len(train_imgs))\n",
        "for img in sorted(train_imgs):\n",
        "  print(img)\n",
        "print('---------------------------------------------------------------')\n",
        "\n",
        "# prints the number of validation images\n",
        "train_imgs = sorted(os.listdir('/content/valid/images'))\n",
        "print('There are %i images ready for validation' % len(train_imgs))\n",
        "for img in sorted(train_imgs):\n",
        "  print(img)\n",
        "print('---------------------------------------------------------------')\n",
        "\n",
        "# prints the number of test images ready for detection\n",
        "test_imgs = sorted(os.listdir('/content/test/images'))\n",
        "print('There are %i images ready for detection' %len(test_imgs))\n",
        "for img in sorted(test_imgs):\n",
        "  print(img)\n",
        "print('---------------------------------------------------------------')"
      ],
      "execution_count": null,
      "outputs": []
    },
    {
      "cell_type": "markdown",
      "metadata": {
        "id": "8tGAEM4jrAeI"
      },
      "source": [
        "# **Define the model configuration**\n",
        "\n",
        "Here is where you can define or write a custom model or use the YOLOv5 default models.\n",
        "\n",
        "There are 4 different default models which can be found in the /yolov5/models  directory:\n",
        "\n",
        "1. Yolov5s\n",
        "2. Yolov5m\n",
        "3. Yolov5l\n",
        "4. Yolov5x\n",
        "\n",
        "Each model's performance based on benchmark datasets, can be reviewed in the ultralytics yolov5 repository. Generally speaking they trade speed for accuracy with Yolov5s being the fastest and Yolov5x being the slowest.\n",
        "\n",
        "Here we utilize the Yolov5s for our experiments.  "
      ]
    },
    {
      "cell_type": "code",
      "metadata": {
        "id": "uDxebz13RdRA"
      },
      "source": [
        "%cd /content\n",
        "\n",
        "%cat yolov5/models/yolov5s.yaml # prints the model output for reference"
      ],
      "execution_count": null,
      "outputs": []
    },
    {
      "cell_type": "markdown",
      "metadata": {
        "id": "Q-AapZo0uDsh"
      },
      "source": [
        "# **Train the Network**\n",
        "\n",
        "Here is where we imput our training and validation data into the Yolov5s framework. \n",
        "\n",
        "Default parameters can be viewed in the /yolov5/train.py file. \n",
        "\n",
        "Some changes we made were:\n",
        "\n",
        "* Adjusting batch size to 10 in order to fit cache into GPU memory.\n",
        "* Training on 1280 images. (default is 960 and image size should remain a multiple of 32).\n",
        "* Ran for 500 epochs \n",
        "* Run with multi-scale\n",
        "\n",
        "The weights are stored according to the `--name` argument as a pytorch file (.pt)"
      ]
    },
    {
      "cell_type": "code",
      "metadata": {
        "id": "1NcFxRcFdJ_O"
      },
      "source": [
        "#### TRAINING STEP, TIME CONSUMING ####\n",
        "%%time \n",
        "%cd /content/yolov5/\n",
        "\n",
        "import time\n",
        "start = time.time() # Record training time\n",
        "\n",
        "#Parameters can be changed here or in command below\n",
        "model = 'full_rectangle'\n",
        "batch_size = 10\n",
        "image_size = 1280\n",
        "epochs = 1000\n",
        "\n",
        "#The name by which the data will be saved into yolov5 directory\n",
        "name = f'{today}_{model}_{image_size}_{epochs}'\n",
        "\n",
        "# weights and trainign data are stored in the appropriate subdirectory in the /content/yolov5/runs directory\n",
        "!python train.py --name {name} --batch 10 --img-size 1280 --epochs 1000 --data '../data.yaml' --cfg ./models/yolov5s.yaml --weights ''  --cache | tee {name}_train_log.txt\n",
        "\n",
        "fin = time.time()- start\n",
        "hrs = fin*(1/60)**2\n",
        "\n",
        "# Store the training time in a separate file.\n",
        "with open(f'{name}_train_time.txt', 'w') as outfile:\n",
        "  print(f'Training completed in {hrs:0.3f} hours',file=outfile)\n",
        "  print('Setup complete. Using torch %s %s' % (torch.__version__, torch.cuda.get_device_properties(0) if torch.cuda.is_available() else 'CPU'),file=outfile)\n"
      ],
      "execution_count": null,
      "outputs": []
    },
    {
      "cell_type": "markdown",
      "metadata": {
        "id": "H5WYG8wtv_fW"
      },
      "source": [
        "# **Test Set Detection**\n",
        "\n",
        "Here we run the detection algorithm. Default parameters can be viewed in the /yolov5/train.py file. \n",
        "\n",
        "Some changes we made were:\n",
        "* IoU threshold increased to 0.5\n",
        "* Confidence threshold increased to 0.8\n",
        "* Image size the same as training i.e. 1280  "
      ]
    },
    {
      "cell_type": "code",
      "metadata": {
        "id": "9nmZZnWOgJ2S"
      },
      "source": [
        "#### Detection Step ####\n",
        "\n",
        "\n",
        "# detection data is stored in the appropriate subdirectory in the /content/yolov5/runs directory\n",
        "%cd /content/yolov5\n",
        "\n",
        "#Parameters can be changed here or in command below\n",
        "model = 'full_triangle'\n",
        "image_size = 1280\n",
        "iou = 0.5\n",
        "confidence = 0.8\n",
        "\n",
        "#The name by which the data will be saved into yolov5 directory\n",
        "name = f'{today}_{model}_{image_size}'\n",
        "\n",
        "#Execute the detection script\n",
        "!python detect.py --name {name} --weights /content/yolov5/weights/best.pt --save-txt --img {image_size} --iou {iou} --conf {confidence} --source ../test/images | tee {name}_detect_results.txt"
      ],
      "execution_count": null,
      "outputs": []
    },
    {
      "cell_type": "markdown",
      "metadata": {
        "id": "slym491DylWl"
      },
      "source": [
        "# **Save Results to Google Drive** \n",
        "*Only available if the google drive mount key was used in the first code segment* \n",
        "\n",
        "This code segement saves the copies the current yolov5 directory into google drive. \n",
        "\n",
        "!!Caution data will be overwritten!!"
      ]
    },
    {
      "cell_type": "code",
      "metadata": {
        "id": "1x_wg3VeiXMW"
      },
      "source": [
        "# predictions are found under the output folder and weights are stored in the pytorch file (\".pt\")\n",
        "%cp  -r /content/yolov5 /content/gdrive/My\\ Drive \n",
        "\n",
        "print(\"Copied to google drive\")"
      ],
      "execution_count": null,
      "outputs": []
    },
    {
      "cell_type": "markdown",
      "metadata": {
        "id": "uLA4QGIZzRnQ"
      },
      "source": [
        "# **Clear Completed Data**\n",
        "\n",
        "This code segment programatically clears the run, training, validation, and testing data that currently resides in the collab session.  \n",
        "\n",
        "It will leave the Gdrive untouched!\n",
        "\n",
        "*Caution before clearing run data as it holds weights and detection results*"
      ]
    },
    {
      "cell_type": "code",
      "metadata": {
        "id": "68A8_gzdnOFZ"
      },
      "source": [
        "# uncomment these to clear the directories and upload new images and lables\n",
        "\n",
        "import os \n",
        "import shutil\n",
        "\n",
        "os.chdir('/content/yolov5/runs')  \n",
        "for dir in os.listdir(): #### make sure data is saved before it is erased!!\n",
        "  shutil.rmtree(dir)     #### this code block removes previous training and detection runs \n",
        "\n",
        "os.chdir('/content/train/images/')\n",
        "for file in os.listdir():\n",
        "  os.remove(file)\n",
        "\n",
        "os.chdir('/content/train/labels')\n",
        "for file in os.listdir():\n",
        "  os.remove(file)\n",
        "\n",
        "os.chdir('/content/valid/labels')\n",
        "for file in os.listdir():\n",
        "  os.remove(file)\n",
        "\n",
        "os.chdir('/content/valid/images')\n",
        "for file in os.listdir():\n",
        "  os.remove(file)\n",
        "\n",
        "os.chdir('/content/test/images')\n",
        "for file in sorted(os.listdir()):\n",
        "  os.remove(file)\n",
        "\n",
        "print('Done.')"
      ],
      "execution_count": null,
      "outputs": []
    }
  ]
}