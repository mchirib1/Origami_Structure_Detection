{
  "nbformat": 4,
  "nbformat_minor": 0,
  "metadata": {
    "colab": {
      "name": "Processing and analysis.ipynb",
      "provenance": [],
      "toc_visible": true
    },
    "kernelspec": {
      "name": "python3",
      "display_name": "Python 3"
    }
  },
  "cells": [
    {
      "cell_type": "markdown",
      "metadata": {
        "id": "sFYkuDb0rtfi"
      },
      "source": [
        "# **Augmentation and Analysis Tools for Intellegent Origami Detection**\n",
        "\n",
        "\n",
        "---\n",
        "\n",
        "\n",
        "Here we give use examples of an CLI augmentation tool we developed to prepare out data for YOLOv5 training. \n",
        "\n",
        "We also give an example of CLI annotation analysis tool we developed to quickly process some of our results. "
      ]
    },
    {
      "cell_type": "markdown",
      "metadata": {
        "id": "NggzOncsslUa"
      },
      "source": [
        "# Clone in Repo, Setup, and Dependancies\n",
        "\n",
        "\n",
        "---\n",
        "\n"
      ]
    },
    {
      "cell_type": "code",
      "metadata": {
        "id": "H55cgK4OV4Cr"
      },
      "source": [
        "# Mount google drive for saving the results\n",
        "\n",
        "from google.colab import drive\n",
        "drive.mount('/content/gdrive')\n",
        "\n",
        "print('Done.')"
      ],
      "execution_count": null,
      "outputs": []
    },
    {
      "cell_type": "code",
      "metadata": {
        "id": "BknozUKiWNaf"
      },
      "source": [
        "### Clone in github repo\n",
        "!git clone https://github.com/mchirib1/Origami_Structure_Detection.git\n",
        "%cd /content\n",
        "\n",
        "!pip install -r Origami_Structure_Detection/requirements.txt  # install dependencies\n",
        "print('Setup complete.') # A restart runtime message might appear... To continue, select restart runtime and re-run this code block"
      ],
      "execution_count": null,
      "outputs": []
    },
    {
      "cell_type": "markdown",
      "metadata": {
        "id": "HFeWGnTDtDjg"
      },
      "source": [
        "## Example Source Files\n",
        "\n",
        "\n",
        "---\n",
        "\n",
        "\n",
        "Example source files are included in the github repo.  However it is trivial to assign a new source. Simply make a new directory and pass it's path to the `--src` argument.  Using the default walkthrough there should be 20 files imported (10 .png and 10 .txt)"
      ]
    },
    {
      "cell_type": "code",
      "metadata": {
        "id": "-8znElZrZSN-"
      },
      "source": [
        "# list source files in src directory\n",
        "import os\n",
        "\n",
        "os.chdir('/content/Origami_Structure_Detection/src') # src is default source directory\n",
        "for file in sorted(os.listdir()):\n",
        "  print(file) # There should be 10 images, each with an associated text file\n",
        "\n",
        "print('-------------------------------------------------')\n",
        "print(f'A total of {len(os.listdir())} files found.') # Should be 20 files total"
      ],
      "execution_count": null,
      "outputs": []
    },
    {
      "cell_type": "markdown",
      "metadata": {
        "id": "FmNfPVOStqcP"
      },
      "source": [
        "# Augmentation Tool\n",
        "\n",
        "\n",
        "---\n",
        "\n",
        "\n",
        "First, we look at the augmentation tool.  It has a total of 7 optional arguments each with a short description, as can be seen below. \n",
        "\n",
        "In this notebook we walkthrough the first 5. "
      ]
    },
    {
      "cell_type": "code",
      "metadata": {
        "id": "voP2mLa5e-Si"
      },
      "source": [
        "%cd /content/Origami_Structure_Detection\n",
        "\n",
        "# list the arguments for the augment.py script\n",
        "!python augment.py --help"
      ],
      "execution_count": null,
      "outputs": []
    },
    {
      "cell_type": "markdown",
      "metadata": {
        "id": "MK5K2uW8uVrb"
      },
      "source": [
        "## Conversion to Grayscale\n",
        "\n",
        "\n",
        "---\n",
        "\n",
        "\n",
        "The `--cvt_gray` argument converts color images from a 3 dimensional $(x, y, 3)$ pixel array to a 2 dimensional $(x, y)$ grayscale pixel array. The $x$ and $y$ indices refer to each pixels cartesian coordinates while the third index refers to the intenisty of RGB color channels. If each channel is 8 bits, representing red, green, and blue respectively, an 24 bit depth image can store discrete pixels with conventional brightness intensities between 0 and 255.\n",
        "\n",
        "Conversion to grayscale effectively eliminates the RGB color channels and represents pixel intenstity as an 8 bit number. Values can range between 255 (black) and 0 (white).\n",
        "\n"
      ]
    },
    {
      "cell_type": "code",
      "metadata": {
        "id": "pZfE2tf1eLpA"
      },
      "source": [
        "### Designate source and destination directories\n",
        "src = 'src'\n",
        "dst = 'grayscale'\n",
        "\n",
        "%cd /content/Origami_Structure_Detection\n",
        "\n",
        "!python augment.py --src $src --dst $dst --cvt_gray "
      ],
      "execution_count": null,
      "outputs": []
    },
    {
      "cell_type": "markdown",
      "metadata": {
        "id": "6ty1ypEnuxCb"
      },
      "source": [
        "## Alpha and Beta Conversion\n",
        "\n",
        "\n",
        "---\n",
        "\n",
        "\n",
        "The `--cvt_ab` argument modifies the each pixel's intensity according to the equation $g(x) = \\alpha*f(x)+\\beta$ where $g(x)$ is the modified pixel intensity and $f(x)$ is the source pixel intensity. \n",
        "\n",
        "Conventionally, modifying the contrast refers to scaling the $\\alpha$ constant while the brightness refers to the $\\beta$ constant.\n",
        "\n",
        "\n",
        "---\n",
        "\n",
        "\n",
        "**Warning:** *The nomenclature for the result files needs work. To avoid overwriting data, the modified file names include the assigned $\\alpha$ and $\\beta$ constants. If a non-integer value for $\\alpha$ is assigned, the output file name automatically switches to \"locon\". This is in order to avoid using decimals in the file names.* \n",
        "\n",
        "*However, beware! This increases the possibility of overwitting data!!! If two different non-integer values of $\\alpha$ are used with the the same $\\beta$, one will be overwritten!!!*"
      ]
    },
    {
      "cell_type": "code",
      "metadata": {
        "id": "hno0PQqefTQL"
      },
      "source": [
        "### Designate source and destination \n",
        "src = 'src'\n",
        "dst = 'contrast'\n",
        "\n",
        "%cd /content/Origami_Structure_Detection\n",
        "\n",
        "## Alpha and beta nomenclature scheme includes the factors in the resulting file\n",
        "## names.  However it needs work and alpha values <1 are stored as \"locon\" to \n",
        "## avoid decimal file names. Though as long as a unique beta value is used, it \n",
        "## can be run multiple times. \n",
        "\n",
        "alpha = 3 \n",
        "beta = 10\n",
        "!python augment.py --src $src --dst $dst --cvt_ab $alpha $beta\n",
        "print('-----------------------------------------------------------')\n",
        "alpha = 0.75\n",
        "beta = 50\n",
        "!python augment.py --src $src --dst $dst --cvt_ab $alpha $beta\n",
        "print('-----------------------------------------------------------')"
      ],
      "execution_count": null,
      "outputs": []
    },
    {
      "cell_type": "markdown",
      "metadata": {
        "id": "fLkICuI52blg"
      },
      "source": [
        "## Image Rotations\n",
        "\n",
        "\n",
        "---\n",
        "\n",
        "\n",
        "The `--rot` argument rotates the images in a directory along with accompanying annotations. The image is rotated by an angle randomly selected between 1 and a user selected $\\theta$. In order to further augment the data set, the image can be rotated $n$ times.  \n",
        "\n",
        "Thus, the default example is a source of 10 images. Each image is rotated $n=5$ times each time by a random angle $\\theta$, such that $1 < \\theta < 360$. This results in the generation of 50 unique images. \n"
      ]
    },
    {
      "cell_type": "code",
      "metadata": {
        "id": "S-Xyq4IngpuA"
      },
      "source": [
        "### This step may be time consuming depending on the number of images ###\n",
        "### Designate source and destination \n",
        "%cd /content/Origami_Structure_Detection\n",
        "\n",
        "n_rotations = 5\n",
        "theta = 360\n",
        "dst = 'rotations' # all images will be stored in the same directory\n",
        "\n",
        "src = 'src' # rotates unprocessed images\n",
        "!python augment.py --src $src --dst $dst --rot $n_rotations $theta\n",
        "print('-----------------------------------------------------------')\n",
        "src = 'contrast' # rotates the images where we modified the contrast and brightness\n",
        "!python augment.py --src $src --dst $dst --rot $n_rotations $theta\n",
        "print('-----------------------------------------------------------')\n",
        "src = 'grayscale' # rotates the images we converted to grayscale\n",
        "!python augment.py --src $src --dst $dst --rot $n_rotations $theta\n",
        "print('-----------------------------------------------------------')"
      ],
      "execution_count": null,
      "outputs": []
    },
    {
      "cell_type": "markdown",
      "metadata": {
        "id": "_3MbJVkP57B7"
      },
      "source": [
        "# Analysis Tool\n",
        "\n",
        "\n",
        "---\n",
        "\n",
        "\n",
        "First we look at the analysis tool.  It has a total of 6 optional arguments each with a description which can be seen below. "
      ]
    },
    {
      "cell_type": "code",
      "metadata": {
        "id": "NcDB3btxqyOI"
      },
      "source": [
        "%cd /content/Origami_Structure_Detection\n",
        "\n",
        "\n",
        "# list the arguments for the augment.py script\n",
        "!python analyze.py --help"
      ],
      "execution_count": null,
      "outputs": []
    },
    {
      "cell_type": "markdown",
      "metadata": {
        "id": "Ij289Btj6bBz"
      },
      "source": [
        "## Counting Annotations and Distributions\n",
        "\n",
        "\n",
        "---\n",
        "\n",
        "\n",
        "The analysis tool offers a few different advantages:  \n",
        "\n",
        "*   `--count_anns` and `--count_preds` can be used to count the annotations in each image. (Only difference is in nomenclature to avoid confusion)  \n",
        "*   `--count_dims` can be used to report the shape of each image's pixel array\n",
        "*   `--scat_hist` can be used to create a scatterplot with histograms on the axes to better visualize bounding box size and location distributions. \n",
        "\n",
        "**Notes:** *The `--count_anns` and `--count_preds` arguments return annotation counts for each individual image as well as sum for entire image stack.* \n"
      ]
    },
    {
      "cell_type": "code",
      "metadata": {
        "id": "oce1PwTCqpfW"
      },
      "source": [
        "### Designate source and destination \n",
        "src = 'rotations'\n",
        "dst = 'results' # results stored in the results directory.\n",
        "\n",
        "%cd /content/Origami_Structure_Detection\n",
        "\n",
        "!python analyze.py --src $src --dst $dst --count_anns --count_preds --count_dims --scat_hist"
      ],
      "execution_count": null,
      "outputs": []
    },
    {
      "cell_type": "markdown",
      "metadata": {
        "id": "slym491DylWl"
      },
      "source": [
        "# Save Results to Google Drive\n",
        "\n",
        "\n",
        "---\n",
        "\n",
        "\n",
        "*Only available if the google drive mount key was used in the first code segment* \n",
        "\n",
        "This code segement saves the copies the current Origami_Structure_Detection directory into google drive.  Fully augmentede training images and labels can be found in the \"rotations\" directory. YOLOv5 also requires validation data.  Ideally any data that is not part of the training set can be used as the validation set. But in reality the validation set is simply used for an unbiased view of training performance and will not affect any of the actual weights in the network.  \n",
        "\n",
        "**Caution:** *Data may be overwritten!!*"
      ]
    },
    {
      "cell_type": "code",
      "metadata": {
        "id": "1x_wg3VeiXMW"
      },
      "source": [
        "### This code block copies the entire Origami_Structure_Detection directory \n",
        "%cp  -r /content/Origami_Structure_Detection/ /content/gdrive/My\\ Drive \n",
        "\n",
        "print(\"Done.\")"
      ],
      "execution_count": null,
      "outputs": []
    },
    {
      "cell_type": "markdown",
      "metadata": {
        "id": "1T23bOvh5WNB"
      },
      "source": [
        "# Optional...\n",
        "\n",
        "This code block allows the user to clean up generated destination folders folders.  \n",
        "\n",
        "**Warning:** *This will delete any unsaved data contained within!!!* "
      ]
    },
    {
      "cell_type": "code",
      "metadata": {
        "id": "tfReujfIhYIa"
      },
      "source": [
        "### OPTIONAL ### empty or delete directories\n",
        "%cd /content/Origami_Structure_Detection/\n",
        "\n",
        "import shutil\n",
        "\n",
        "dir_path = input('\\nEnter path to directory')\n",
        "\n",
        "try:\n",
        "  shutil.rmtree(dir_path)\n",
        "  print('\\nData deleted.')\n",
        "except FileNotFoundError:\n",
        "  print('\\nError: That directory does not exist.')\n",
        "except NotADirectoryError:\n",
        "  print('\\nError: Path does not lead to directory.')\n",
        "\n"
      ],
      "execution_count": null,
      "outputs": []
    }
  ]
}