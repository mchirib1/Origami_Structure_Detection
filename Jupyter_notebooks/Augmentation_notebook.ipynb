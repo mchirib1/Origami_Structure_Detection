{
  "nbformat": 4,
  "nbformat_minor": 0,
  "metadata": {
    "colab": {
      "name": "Processing and analysis.ipynb",
      "provenance": []
    },
    "kernelspec": {
      "name": "python3",
      "display_name": "Python 3"
    }
  },
  "cells": [
    {
      "cell_type": "markdown",
      "metadata": {
        "id": "sFYkuDb0rtfi"
      },
      "source": [
        "# **Augmentation and Analysis Tools for Intellegent Origami Detection**\n",
        "\n",
        "\n",
        "---\n",
        "\n",
        "\n",
        "Here we give use examples of an CLI augmentation tool we developed to prepare out data for YOLOv5 training. \n",
        "\n",
        "We also give an example of CLI annotation analysis tool we developed to quickly process some of our results. "
      ]
    },
    {
      "cell_type": "markdown",
      "metadata": {
        "id": "NggzOncsslUa"
      },
      "source": [
        "# Clone in Repo, Setup, and Dependancies\n",
        "\n",
        "\n",
        "---\n",
        "\n"
      ]
    },
    {
      "cell_type": "code",
      "metadata": {
        "colab": {
          "base_uri": "https://localhost:8080/"
        },
        "id": "H55cgK4OV4Cr",
        "outputId": "c91e5bc7-8fe7-447f-c43b-8adb574f38d8"
      },
      "source": [
        "# Mount google drive for saving the results\n",
        "\n",
        "from google.colab import drive\n",
        "drive.mount('/content/gdrive')\n",
        "\n",
        "print('Done.')"
      ],
      "execution_count": 1,
      "outputs": [
        {
          "output_type": "stream",
          "text": [
            "Mounted at /content/gdrive\n",
            "Done.\n"
          ],
          "name": "stdout"
        }
      ]
    },
    {
      "cell_type": "code",
      "metadata": {
        "colab": {
          "base_uri": "https://localhost:8080/"
        },
        "id": "BknozUKiWNaf",
        "outputId": "c03b2017-aedc-46f0-ebe8-c5b072bf9ebd"
      },
      "source": [
        "### Clone in repo\n",
        "!git clone https://github.com/mchirib1/Origami_Structure_Detection.git\n",
        "%cd /content\n",
        "\n",
        "!pip install -r Origami_Structure_Detection/requirements.txt  # install dependencies\n",
        "print('Setup complete.') # A restart runtime message might appear... To continue, select restart runtime and re-run this code block"
      ],
      "execution_count": 1,
      "outputs": [
        {
          "output_type": "stream",
          "text": [
            "fatal: destination path 'Origami_Structure_Detection' already exists and is not an empty directory.\n",
            "/content\n",
            "Requirement already satisfied: cycler==0.10.0 in /usr/local/lib/python3.6/dist-packages (from -r Origami_Structure_Detection/requirements.txt (line 1)) (0.10.0)\n",
            "Requirement already satisfied: imutils==0.5.3 in /usr/local/lib/python3.6/dist-packages (from -r Origami_Structure_Detection/requirements.txt (line 2)) (0.5.3)\n",
            "Requirement already satisfied: kiwisolver==1.3.1 in /usr/local/lib/python3.6/dist-packages (from -r Origami_Structure_Detection/requirements.txt (line 3)) (1.3.1)\n",
            "Requirement already satisfied: matplotlib==3.3.3 in /usr/local/lib/python3.6/dist-packages (from -r Origami_Structure_Detection/requirements.txt (line 4)) (3.3.3)\n",
            "Requirement already satisfied: numpy==1.19.4 in /usr/local/lib/python3.6/dist-packages (from -r Origami_Structure_Detection/requirements.txt (line 5)) (1.19.4)\n",
            "Requirement already satisfied: opencv-python==4.5.1.48 in /usr/local/lib/python3.6/dist-packages (from -r Origami_Structure_Detection/requirements.txt (line 6)) (4.5.1.48)\n",
            "Requirement already satisfied: Pillow==8.1.0 in /usr/local/lib/python3.6/dist-packages (from -r Origami_Structure_Detection/requirements.txt (line 7)) (8.1.0)\n",
            "Requirement already satisfied: pip==21.0 in /usr/local/lib/python3.6/dist-packages (from -r Origami_Structure_Detection/requirements.txt (line 8)) (21.0)\n",
            "Requirement already satisfied: pyparsing==2.4.7 in /usr/local/lib/python3.6/dist-packages (from -r Origami_Structure_Detection/requirements.txt (line 9)) (2.4.7)\n",
            "Requirement already satisfied: python-dateutil==2.8.1 in /usr/local/lib/python3.6/dist-packages (from -r Origami_Structure_Detection/requirements.txt (line 10)) (2.8.1)\n",
            "Requirement already satisfied: setuptools==52.0.0 in /usr/local/lib/python3.6/dist-packages (from -r Origami_Structure_Detection/requirements.txt (line 11)) (52.0.0)\n",
            "Requirement already satisfied: six==1.15.0 in /usr/local/lib/python3.6/dist-packages (from -r Origami_Structure_Detection/requirements.txt (line 12)) (1.15.0)\n",
            "Setup complete.\n"
          ],
          "name": "stdout"
        }
      ]
    },
    {
      "cell_type": "markdown",
      "metadata": {
        "id": "HFeWGnTDtDjg"
      },
      "source": [
        "## Example Source Files\n",
        "\n",
        "\n",
        "---\n",
        "\n",
        "\n",
        "Example source files are included in the github repo.  However it is trivial to assign a new source. Simply make a new directory and pass it's path to the `--src` argument"
      ]
    },
    {
      "cell_type": "code",
      "metadata": {
        "colab": {
          "base_uri": "https://localhost:8080/"
        },
        "id": "-8znElZrZSN-",
        "outputId": "3e880a50-77ee-44b7-acb1-51906c1963f0"
      },
      "source": [
        "# list source files in src directory\n",
        "import os\n",
        "\n",
        "os.chdir('/content/Origami_Structure_Detection/src') # src is default source directory\n",
        "for file in sorted(os.listdir()):\n",
        "  print(file) # There should be 10 images, each with an associated text file\n",
        "\n",
        "print('-------------------------------------------------')\n",
        "print(f'A total of {len(os.listdir())} files found.') # Should be 20 files total"
      ],
      "execution_count": 8,
      "outputs": [
        {
          "output_type": "stream",
          "text": [
            "triangle_1.png\n",
            "triangle_1.txt\n",
            "triangle_10.png\n",
            "triangle_10.txt\n",
            "triangle_2.png\n",
            "triangle_2.txt\n",
            "triangle_3.png\n",
            "triangle_3.txt\n",
            "triangle_4.png\n",
            "triangle_4.txt\n",
            "triangle_5.png\n",
            "triangle_5.txt\n",
            "triangle_6.png\n",
            "triangle_6.txt\n",
            "triangle_7.png\n",
            "triangle_7.txt\n",
            "triangle_8.png\n",
            "triangle_8.txt\n",
            "triangle_9.png\n",
            "triangle_9.txt\n",
            "-------------------------------------------------\n",
            "A total of 20 files found.\n"
          ],
          "name": "stdout"
        }
      ]
    },
    {
      "cell_type": "markdown",
      "metadata": {
        "id": "FmNfPVOStqcP"
      },
      "source": [
        "# Augmentation Tool\n",
        "\n",
        "\n",
        "---\n",
        "\n",
        "\n",
        "First we look at the augmentation tool.  It has a total of 7 optional arguments each with a description which can be seen below. \n",
        "\n",
        "In this notebook we include examples of the first 5. "
      ]
    },
    {
      "cell_type": "code",
      "metadata": {
        "colab": {
          "base_uri": "https://localhost:8080/"
        },
        "id": "voP2mLa5e-Si",
        "outputId": "0567c107-4de1-4a7d-9973-85957007f3a2"
      },
      "source": [
        "%cd /content/Origami_Structure_Detection\n",
        "\n",
        "# list the arguments for the augment.py script\n",
        "!python augment.py --help"
      ],
      "execution_count": 9,
      "outputs": [
        {
          "output_type": "stream",
          "text": [
            "/content/Origami_Structure_Detection\n",
            "usage: augment.py [-h] [--src source_path] [--dst dest_path] [--cvt_gray]\n",
            "                  [--cvt_ab alpha beta] [--rot n theta] [--quad1] [--quad3]\n",
            "\n",
            "CLI tool for augmenting source images and corresponding annotations beore\n",
            "feeding into the YOLO machine learning framework.\n",
            "\n",
            "optional arguments:\n",
            "  -h, --help           show this help message and exit\n",
            "  --src source_path    Path to source directory containing image and label\n",
            "                       stack\n",
            "  --dst dest_path      Path to create a destination directory storing output\n",
            "  --cvt_gray           Converts image stack to grayscale\n",
            "  --cvt_ab alpha beta  Edits constants and brightness by scaling alpha and\n",
            "                       beta\n",
            "  --rot n theta        Rotates each image and corresponding label by random\n",
            "                       angle between 1 and theta, n times\n",
            "  --quad1              Sets all pixels outside of the upper left quadrant to\n",
            "                       zero\n",
            "  --quad3              Sets all pixels outside of the lower right quadrant to\n",
            "                       zero\n"
          ],
          "name": "stdout"
        }
      ]
    },
    {
      "cell_type": "markdown",
      "metadata": {
        "id": "MK5K2uW8uVrb"
      },
      "source": [
        "## Conversion to Grayscale\n",
        "\n",
        "\n",
        "---\n",
        "\n",
        "\n",
        "The `--cvt_gray` argument converts images from a 3 dimensional $(x, y, 3)$ pixel array to a 2 dimensional $(x, y)$ pixel array. The $x$ and $y$ indeces refer to each pixels cartesian coordinates while the third index refers to the RGB color channels. If each channel has 8 bits, for red, green, and blue, each image can store discrete pixels with conventional brightness intensities between 0 and 255 for each of the color channels.\n",
        "\n",
        "Conversion to  effectively eliminates the color channels associated with RGB images.\n",
        "\n"
      ]
    },
    {
      "cell_type": "code",
      "metadata": {
        "colab": {
          "base_uri": "https://localhost:8080/"
        },
        "id": "pZfE2tf1eLpA",
        "outputId": "f6e8452b-b557-414c-9852-da7f5488a593"
      },
      "source": [
        "### Designate source and destination directories\n",
        "src = 'src'\n",
        "dst = 'grayscale'\n",
        "\n",
        "%cd /content/Origami_Structure_Detection\n",
        "\n",
        "!python augment.py --src $src --dst $dst --cvt_gray "
      ],
      "execution_count": 10,
      "outputs": [
        {
          "output_type": "stream",
          "text": [
            "/content/Origami_Structure_Detection\n",
            "Namespace(cvt_ab=False, cvt_gray=True, dst='grayscale', quad1=False, quad3=False, rot=False, src='src')\n",
            "10 images converted to grayscale.\n",
            "Code completed in 2.4442 seconds on 20210127.\n"
          ],
          "name": "stdout"
        }
      ]
    },
    {
      "cell_type": "markdown",
      "metadata": {
        "id": "6ty1ypEnuxCb"
      },
      "source": [
        "## Alpha and Beta Conversion\n",
        "\n",
        "\n",
        "---\n",
        "\n",
        "\n",
        "The `--cvt_ab` argument modifies the each pixel's intensity according to the equation $g(x) = \\alpha*f(x)+\\beta$ where $g(x)$ is the modified pixel intensity and $f(x)$ is the source pixel intensity. \n",
        "\n",
        "Conventionally, modifying the contrast refers to scaling the $\\alpha$ constant while the brightness refers to the $\\beta$ constant.\n",
        "\n",
        "\n",
        "---\n",
        "\n",
        "\n",
        "**Warning:** *The nomenclature for the result files needs work. To avoid overwriting data, the modified file names include the assigned $\\alpha$ and $\\beta$ constants. If a non-integer value for $\\alpha$ is assigned, the output file name automatically switches to \"locon\". This is in order to avoid using decimals in the file names.* \n",
        "\n",
        "*However, beware! This increases the possibility of overwitting data!!! If two different non-integer values of $\\alpha$ are used with the the same $\\beta$, one will be overwritten!!!*"
      ]
    },
    {
      "cell_type": "code",
      "metadata": {
        "colab": {
          "base_uri": "https://localhost:8080/"
        },
        "id": "hno0PQqefTQL",
        "outputId": "98e11aba-f708-4560-83d7-8257bd1ccb5d"
      },
      "source": [
        "### Designate source and destination \n",
        "src = 'src'\n",
        "dst = 'contrast'\n",
        "\n",
        "%cd /content/Origami_Structure_Detection\n",
        "\n",
        "## Alpha and beta nomenclature scheme includes the factors in the resulting file\n",
        "## names.  However it needs work and alpha values <1 are stored as \"locon\" to \n",
        "## avoid decimal file names. Though as long as a unique beta value is used, it \n",
        "## can be run multiple times. \n",
        "\n",
        "alpha = 3 \n",
        "beta = 10\n",
        "!python augment.py --src $src --dst $dst --cvt_ab $alpha $beta\n",
        "print('-----------------------------------------------------------')\n",
        "alpha = 0.75\n",
        "beta = 50\n",
        "!python augment.py --src $src --dst $dst --cvt_ab $alpha $beta\n",
        "print('-----------------------------------------------------------')"
      ],
      "execution_count": 15,
      "outputs": [
        {
          "output_type": "stream",
          "text": [
            "/content/Origami_Structure_Detection\n",
            "Namespace(cvt_ab=['3', '10'], cvt_gray=False, dst='contrast', quad1=False, quad3=False, rot=False, src='src')\n",
            "10 images scaled using alpha=3.0 and beta=10.\n",
            "Code completed in 3.9985 seconds on 20210127.\n",
            "-----------------------------------------------------------\n",
            "Namespace(cvt_ab=['0.75', '50'], cvt_gray=False, dst='contrast', quad1=False, quad3=False, rot=False, src='src')\n",
            "10 images scaled using alpha=0.75 and beta=50.\n",
            "Code completed in 3.9395 seconds on 20210127.\n",
            "-----------------------------------------------------------\n"
          ],
          "name": "stdout"
        }
      ]
    },
    {
      "cell_type": "markdown",
      "metadata": {
        "id": "fLkICuI52blg"
      },
      "source": [
        "## Image Rotations\n",
        "\n",
        "\n",
        "---\n",
        "\n",
        "\n",
        "The `--rot` argument rotates the images in a directory along with accompanying annotations. The image is rotated by an angle randomly selected between 1 and a user selected $\\theta$. In order to further augment the data set, the image can be rotated $n$ times.  \n",
        "\n",
        "Thus, the default example is a source of 10 images. Each image is rotated $n=5$ times each time by a random angle $\\theta$, such that $1 < \\theta < 360$. This results in the generation of 50 unique images. \n"
      ]
    },
    {
      "cell_type": "code",
      "metadata": {
        "colab": {
          "base_uri": "https://localhost:8080/"
        },
        "id": "S-Xyq4IngpuA",
        "outputId": "110e7199-2a5e-4b4a-e1dd-9f7eaef4ea6d"
      },
      "source": [
        "### This step may be time consuming depending on the number of images ###\n",
        "### Designate source and destination \n",
        "%cd /content/Origami_Structure_Detection\n",
        "\n",
        "n_rotations = 5\n",
        "theta = 360\n",
        "dst = 'rotations' # all images will be stored in the same directory\n",
        "\n",
        "src = 'src' # rotates unprocessed images\n",
        "!python augment.py --src $src --dst $dst --rot $n_rotations $theta\n",
        "print('-----------------------------------------------------------')\n",
        "src = 'contrast' # rotates the images where we modified the contrast and brightness\n",
        "!python augment.py --src $src --dst $dst --rot $n_rotations $theta\n",
        "print('-----------------------------------------------------------')\n",
        "src = 'grayscale' # rotates the images we converted to grayscale\n",
        "!python augment.py --src $src --dst $dst --rot $n_rotations $theta\n",
        "print('-----------------------------------------------------------')"
      ],
      "execution_count": 12,
      "outputs": [
        {
          "output_type": "stream",
          "text": [
            "/content/Origami_Structure_Detection\n",
            "Namespace(cvt_ab=False, cvt_gray=False, dst='rotations', quad1=False, quad3=False, rot=['5', '360'], src='src')\n",
            "10 images rotated 5 times. Output:50 images\n",
            "Code completed in 28.6785 seconds on 20210127.\n",
            "Namespace(cvt_ab=False, cvt_gray=False, dst='rotations', quad1=False, quad3=False, rot=['5', '360'], src='contrast')\n",
            "20 images rotated 5 times. Output:100 images\n",
            "Code completed in 58.3723 seconds on 20210127.\n",
            "Namespace(cvt_ab=False, cvt_gray=False, dst='rotations', quad1=False, quad3=False, rot=['5', '360'], src='grayscale')\n",
            "10 images rotated 5 times. Output:50 images\n",
            "Code completed in 23.9473 seconds on 20210127.\n"
          ],
          "name": "stdout"
        }
      ]
    },
    {
      "cell_type": "markdown",
      "metadata": {
        "id": "_3MbJVkP57B7"
      },
      "source": [
        "# Analysis Tool\n",
        "\n",
        "\n",
        "---\n",
        "\n",
        "\n",
        "First we look at the analysis tool.  It has a total of 6 optional arguments each with a description which can be seen below. "
      ]
    },
    {
      "cell_type": "code",
      "metadata": {
        "id": "NcDB3btxqyOI"
      },
      "source": [
        "%cd /content/Origami_Structure_Detection\n",
        "\n",
        "\n",
        "# list the arguments for the augment.py script\n",
        "!python analyze.py --help"
      ],
      "execution_count": null,
      "outputs": []
    },
    {
      "cell_type": "markdown",
      "metadata": {
        "id": "Ij289Btj6bBz"
      },
      "source": [
        "## Counting Annotations and Distributions\n",
        "\n",
        "\n",
        "---\n",
        "\n",
        "\n",
        "The analysis tool offers a few different advantages:  \n",
        "\n",
        "*   `--count_anns` and `--count_preds` can be used to count the annotations in each image. (Only difference is in nomenclature to avoid confusion)  \n",
        "*   `--count_dims` can be used to report the shape of each image's pixel array\n",
        "*   `--scat_hist` can be used to create a scatterplot with histograms on the axes to better visualize bounding box size and location distributions. \n",
        "\n",
        "**Notes:** *The `--count_anns` and `--count_preds` arguments return annotation counts for each individual image as well as sum for entire image stack. Also * \n"
      ]
    },
    {
      "cell_type": "code",
      "metadata": {
        "id": "oce1PwTCqpfW"
      },
      "source": [
        "### Designate source and destination \n",
        "src = 'rotations'\n",
        "dst = 'results'\n",
        "\n",
        "%cd /content/Origami_Structure_Detection\n",
        "\n",
        "!python analyze.py --src $src --dst $dst --count_anns --count_preds --count_dims --scat_hist"
      ],
      "execution_count": null,
      "outputs": []
    },
    {
      "cell_type": "markdown",
      "metadata": {
        "id": "slym491DylWl"
      },
      "source": [
        "# Save Results to Google Drive\n",
        "\n",
        "\n",
        "---\n",
        "\n",
        "\n",
        "*Only available if the google drive mount key was used in the first code segment* \n",
        "\n",
        "This code segement saves the copies the current Origami_Structure_Detection directory into google drive. \n",
        "\n",
        "**Caution:** *Data may be overwritten!!*"
      ]
    },
    {
      "cell_type": "code",
      "metadata": {
        "colab": {
          "base_uri": "https://localhost:8080/"
        },
        "id": "1x_wg3VeiXMW",
        "outputId": "ce05391f-884c-4185-9ebc-5775f1925130"
      },
      "source": [
        "# predictions are found under the output folder and weights are stored in the pytorch file (\".pt\")\n",
        "%cp  -r /content/Origami_Structure_Detection/ /content/gdrive/My\\ Drive \n",
        "\n",
        "print(\"Done.\")"
      ],
      "execution_count": null,
      "outputs": [
        {
          "output_type": "stream",
          "text": [
            "Copied to google drive\n"
          ],
          "name": "stdout"
        }
      ]
    },
    {
      "cell_type": "markdown",
      "metadata": {
        "id": "1T23bOvh5WNB"
      },
      "source": [
        "# Optional...\n",
        "\n",
        "This code block allows the user to clean up generated destination folders folders.  \n",
        "\n",
        "**Warning:** *This will delete any unsaved data contained within!!!* "
      ]
    },
    {
      "cell_type": "code",
      "metadata": {
        "colab": {
          "base_uri": "https://localhost:8080/"
        },
        "id": "tfReujfIhYIa",
        "outputId": "8294b75f-4c1b-4641-b3b1-666420432f32"
      },
      "source": [
        "### OPTIONAL ### empty or delete directories\n",
        "%cd /content/Origami_Structure_Detection/\n",
        "\n",
        "import shutil\n",
        "\n",
        "dir_path = input('\\nEnter path to directory')\n",
        "\n",
        "try:\n",
        "  shutil.rmtree(dir_path)\n",
        "  print('\\nData deleted.')\n",
        "except FileNotFoundError:\n",
        "  print('\\nError: That directory does not exist.')\n",
        "except NotADirectoryError:\n",
        "  print('\\nError: Path does not lead to directory.')\n",
        "\n"
      ],
      "execution_count": 32,
      "outputs": [
        {
          "output_type": "stream",
          "text": [
            "/content/Origami_Structure_Detection\n",
            "\n",
            "Enter path to directory/content/Origami_Structure_Detection/results\n",
            "\n",
            "Data deleted.\n"
          ],
          "name": "stdout"
        }
      ]
    }
  ]
}